{
 "cells": [
  {
   "cell_type": "markdown",
   "metadata": {},
   "source": [
    "# Katas Módulo 9 - Funciones"
   ]
  },
  {
   "cell_type": "code",
   "execution_count": 18,
   "metadata": {},
   "outputs": [
    {
     "data": {
      "text/plain": [
       "'Tanque 1: 230, Tanque 2: 120, Tanque 3: 340, Llenado promedio: 230.0'"
      ]
     },
     "execution_count": 18,
     "metadata": {},
     "output_type": "execute_result"
    }
   ],
   "source": [
    "# Ejercicio 1: Trabajar con argumentos en funciones\n",
    "\n",
    "def informe(tanque1, tanque2, tanque3):\n",
    "    print(informe(tanque1, tanque2, tanque3))\n",
    "\n",
    "\n",
    "def informe(tanque1, tanque2, tanque3):\n",
    "    promedio = (tanque1 + tanque2 + tanque3) / 3\n",
    "    return(f'Tanque 1: {tanque1}, Tanque 2: {tanque2}, Tanque 3: {tanque3}, Llenado promedio: {promedio}')\n",
    "\n",
    "informe(230,120,340)"
   ]
  },
  {
   "cell_type": "code",
   "execution_count": 15,
   "metadata": {},
   "outputs": [
    {
     "data": {
      "text/plain": [
       "230.0"
      ]
     },
     "execution_count": 15,
     "metadata": {},
     "output_type": "execute_result"
    }
   ],
   "source": [
    "# Definimos una nueva función para el promedio\n",
    "def promedio_total(values):\n",
    "    llenado_total = sum(values)\n",
    "    numero_tanques = len(values)\n",
    "    return llenado_total / numero_tanques\n",
    "\n",
    "promedio_total([230,120,340])"
   ]
  },
  {
   "cell_type": "code",
   "execution_count": 23,
   "metadata": {},
   "outputs": [
    {
     "name": "stdout",
     "output_type": "stream",
     "text": [
      "Tanque 1: 55%, Tanque 2: 66%, Tanque 3: 45%, Llenado promedio: 55%\n"
     ]
    }
   ],
   "source": [
    "#Actualizamos la primera función con la nueva función\n",
    "def informe(tanque1, tanque2, tanque3):\n",
    "    return(f'Tanque 1: {tanque1}%, Tanque 2: {tanque2}%, Tanque 3: {tanque3}%, Llenado promedio: {round(promedio_total([tanque1, tanque2, tanque3]))}%')\n",
    "\n",
    "print(informe(55,66,45))"
   ]
  },
  {
   "cell_type": "code",
   "execution_count": 24,
   "metadata": {},
   "outputs": [
    {
     "data": {
      "text/plain": [
       "'Destino: Jupiter. Tiempo hasta el lanzamiento: 20hrs. Tiempo de vuelo: 56 días, Tanque exterior: 98%, Tanque interior: 99%'"
      ]
     },
     "execution_count": 24,
     "metadata": {},
     "output_type": "execute_result"
    }
   ],
   "source": [
    "#Ejercicio 2 - Trabajo con argumentos de palabra clave\n",
    "\n",
    "#Requerimientos: 1. tiempo hasta destino, 2. combustible restante, 3. destino\n",
    "# Función con un informe preciso de la misión. Considera hora de prelanzamiento, tiempo de vuelo, destino, tanque externo y tanque interno\n",
    "\n",
    "def reporte(prelanzamiento, tiempo_vuelo, destino, tanque_ext, tanque_int):\n",
    "    return f'Destino: {destino}. Tiempo hasta el lanzamiento: {prelanzamiento}hrs. Tiempo de vuelo: {tiempo_vuelo} días, Tanque exterior: {tanque_ext}%, Tanque interior: {tanque_int}%'\n",
    "\n",
    "reporte(20, 56, 'Jupiter', 98, 99)"
   ]
  },
  {
   "cell_type": "code",
   "execution_count": 55,
   "metadata": {},
   "outputs": [
    {
     "name": "stdout",
     "output_type": "stream",
     "text": [
      "Destino:Luna. \n",
      "Tiempo total: 128 días. \n",
      "Combustible promedio en tanques: 74%\n"
     ]
    }
   ],
   "source": [
    "#Nueva función usando argumentos variables\n",
    "def reporte (destino, *tiempos, **combustible):\n",
    "    return f'Destino:{destino}. \\nTiempo total: {sum(tiempos)} días. \\nCombustible promedio en tanques: {round(sum(combustible.values()) / len(combustible))}%'\n",
    "\n",
    "print(reporte('Luna', 32, 44, 52, tanque1=45, tanque2=78, tanque3=98))"
   ]
  },
  {
   "cell_type": "code",
   "execution_count": 56,
   "metadata": {},
   "outputs": [
    {
     "name": "stdout",
     "output_type": "stream",
     "text": [
      "Destino:Luna. \n",
      "Tiempo total: 128 días. \n",
      "Combustible en tanques: 350000lts, tanque1: 50000lts, tanque2: 120000lts, tanque3: 180000lts, \n"
     ]
    }
   ],
   "source": [
    "#Nueva función especificando el combustible en los tanques\n",
    "def reporte (destino, *tiempos, **combustible):\n",
    "    reporte_global = f'Destino: {destino}. \\nTiempo total: {sum(tiempos)} días. \\nCombustible en tanques: {sum(combustible.values())}lts, '\n",
    "    \n",
    "    for tanque, cantidad in combustible.items():\n",
    "        reporte_global += f'{tanque}: {cantidad}lts, '\n",
    "    return reporte_global\n",
    "\n",
    "print(reporte('Luna', 32, 44, 52, tanque1=50000, tanque2=120000, tanque3=180000))"
   ]
  }
 ],
 "metadata": {
  "interpreter": {
   "hash": "13ee0aeec6359bf7d4a27878dc33bfdd833e706fe15db25b5833abf56597652f"
  },
  "kernelspec": {
   "display_name": "Python 3.10.1 64-bit",
   "language": "python",
   "name": "python3"
  },
  "language_info": {
   "codemirror_mode": {
    "name": "ipython",
    "version": 3
   },
   "file_extension": ".py",
   "mimetype": "text/x-python",
   "name": "python",
   "nbconvert_exporter": "python",
   "pygments_lexer": "ipython3",
   "version": "3.10.1"
  },
  "orig_nbformat": 4
 },
 "nbformat": 4,
 "nbformat_minor": 2
}

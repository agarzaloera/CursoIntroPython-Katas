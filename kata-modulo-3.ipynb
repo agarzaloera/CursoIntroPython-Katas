{
 "cells": [
  {
   "cell_type": "markdown",
   "metadata": {},
   "source": [
    "## Kata Módulo 3 "
   ]
  },
  {
   "cell_type": "code",
   "execution_count": 10,
   "metadata": {},
   "outputs": [
    {
     "name": "stdout",
     "output_type": "stream",
     "text": [
      "Hoy no hay peligro de asteroides\n"
     ]
    }
   ],
   "source": [
    "velocidad = 45\n",
    "if velocidad >= 25:\n",
    "    print(\"Alerta, un asteroide se dirige a la tierra a una velocidad de \" + str(velocidad) + \"km/s\")\n",
    "else:\n",
    "    print(\"Hoy no hay peligro de asteroides\")"
   ]
  },
  {
   "cell_type": "code",
   "execution_count": 8,
   "metadata": {},
   "outputs": [
    {
     "name": "stdout",
     "output_type": "stream",
     "text": [
      "Miren el cielo, hay un asteoroide camino a la tierra a un velocidad de 19km/s\n"
     ]
    }
   ],
   "source": [
    "velocidad = 19\n",
    "if velocidad >= 25:\n",
    "    print(\"Hay un asteroide que se dirige a la tierra a una velocidad de \" + str(velocidad) + \"km/s\")\n",
    "elif velocidad <= 20:\n",
    "    print(\"Miren el cielo, hay un asteoroide camino a la tierra a un velocidad de \" + str(velocidad) + \"km/s\")\n",
    "else: \n",
    "    print(\"Hoy no hay peligro de asteroides\")"
   ]
  },
  {
   "cell_type": "code",
   "execution_count": 11,
   "metadata": {},
   "outputs": [
    {
     "name": "stdout",
     "output_type": "stream",
     "text": [
      "Volteen al cielo, Hay un aseteroide camino a la Tierra a una velocidad de 15km/s y tiene un diametro de 1200m. Debemos de evacuar de inmediato.\n"
     ]
    }
   ],
   "source": [
    "asteroide = 1200\n",
    "velocidad = 15\n",
    "\n",
    "if velocidad >=25 and asteroide <= 25 :\n",
    "    print(\"Un asteroide se dirige a la tierra a una velocidad de \" + str(velocidad) + \"km/s\" + \", su diametro es de \" + str(asteroide) + \"m y no representa un peligro.\")\n",
    "elif velocidad <=20 and asteroide >= 25:\n",
    "    print(\"Volteen al cielo, Hay un aseteroide camino a la Tierra a una velocidad de \" + str(velocidad) + \"km/s y tiene un diametro de \" + str(asteroide) + \"m. Debemos de evacuar de inmediato.\")\n",
    "else: \n",
    "    print(\"Hoy no hay peligro de asteroides\")"
   ]
  }
 ],
 "metadata": {
  "interpreter": {
   "hash": "13ee0aeec6359bf7d4a27878dc33bfdd833e706fe15db25b5833abf56597652f"
  },
  "kernelspec": {
   "display_name": "Python 3.10.1 64-bit",
   "language": "python",
   "name": "python3"
  },
  "language_info": {
   "codemirror_mode": {
    "name": "ipython",
    "version": 3
   },
   "file_extension": ".py",
   "mimetype": "text/x-python",
   "name": "python",
   "nbconvert_exporter": "python",
   "pygments_lexer": "ipython3",
   "version": "3.10.1"
  },
  "orig_nbformat": 4
 },
 "nbformat": 4,
 "nbformat_minor": 2
}

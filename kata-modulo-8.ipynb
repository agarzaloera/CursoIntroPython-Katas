{
 "cells": [
  {
   "cell_type": "markdown",
   "metadata": {},
   "source": [
    "## Kata Módulo 8"
   ]
  },
  {
   "cell_type": "code",
   "execution_count": 6,
   "metadata": {},
   "outputs": [
    {
     "name": "stdout",
     "output_type": "stream",
     "text": [
      "Planeta:Marte Lunas:2\n",
      "Marte tiene una circunferencia polar de 6752km y 2 lunas.\n"
     ]
    }
   ],
   "source": [
    "#Ejercicio 1\n",
    "\n",
    "#Creando un diccionario para el planeta Marte\n",
    "\n",
    "planet = {\n",
    "    'nombre': 'Marte',\n",
    "    'lunas': 2\n",
    "}\n",
    "\n",
    "#Mostrando el nombre del planet y el número de lunas\n",
    "print(f\"Planeta:{planet['nombre']} Lunas:{planet['lunas']}\")\n",
    "\n",
    "#Se agrega la nueva clave de circunferencia\n",
    "planet['circunferencia'] = {\n",
    "    'polar': 6752,\n",
    "    'equatorial': 6792\n",
    "}\n",
    "\n",
    "print(f\"{planet['nombre']} tiene una circunferencia polar de {planet['circunferencia']['polar']}km y {planet['lunas']} lunas.\")"
   ]
  },
  {
   "cell_type": "code",
   "execution_count": 20,
   "metadata": {},
   "outputs": [
    {
     "name": "stdout",
     "output_type": "stream",
     "text": [
      "mercury: 0\n",
      "venus: 0\n",
      "earth: 1\n",
      "mars: 2\n",
      "jupiter: 79\n",
      "saturn: 82\n",
      "uranus: 27\n",
      "neptune: 14\n",
      "pluto: 5\n",
      "haumea: 2\n",
      "makemake: 1\n",
      "eris: 1\n",
      "el número de lunas es: 214, un promedio de 17 lunas por planet.\n"
     ]
    }
   ],
   "source": [
    "#Ejercicio 2\n",
    "\n",
    "planet_moons = {\n",
    "    'mercury': 0,\n",
    "    'venus': 0,\n",
    "    'earth': 1,\n",
    "    'mars': 2,\n",
    "    'jupiter': 79,\n",
    "    'saturn': 82,\n",
    "    'uranus': 27,\n",
    "    'neptune': 14,\n",
    "    'pluto': 5,\n",
    "    'haumea': 2,\n",
    "    'makemake': 1,\n",
    "    'eris': 1\n",
    "}\n",
    "\n",
    "moons = planet_moons.values()\n",
    "\n",
    "planets = len(planet_moons.keys())\n",
    "\n",
    "total_moons = 0\n",
    "\n",
    "for key in planet_moons.keys():\n",
    "    print(f\"{key}: {planet_moons[key]}\")\n",
    "\n",
    "\n",
    "for value in planet_moons.values():\n",
    "    total_moons = total_moons + value\n",
    "\n",
    "promedio = total_moons / planets\n",
    "\n",
    "print(f\"el número de lunas es: {total_moons}, un promedio de {int(promedio)} lunas por planeta.\")"
   ]
  }
 ],
 "metadata": {
  "interpreter": {
   "hash": "13ee0aeec6359bf7d4a27878dc33bfdd833e706fe15db25b5833abf56597652f"
  },
  "kernelspec": {
   "display_name": "Python 3.10.1 64-bit",
   "language": "python",
   "name": "python3"
  },
  "language_info": {
   "codemirror_mode": {
    "name": "ipython",
    "version": 3
   },
   "file_extension": ".py",
   "mimetype": "text/x-python",
   "name": "python",
   "nbconvert_exporter": "python",
   "pygments_lexer": "ipython3",
   "version": "3.10.1"
  },
  "orig_nbformat": 4
 },
 "nbformat": 4,
 "nbformat_minor": 2
}

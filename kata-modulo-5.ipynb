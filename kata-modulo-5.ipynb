{
 "cells": [
  {
   "cell_type": "markdown",
   "metadata": {},
   "source": [
    "## Kata Módulo 5\n",
    "Ejercicio 1"
   ]
  },
  {
   "cell_type": "code",
   "execution_count": 12,
   "metadata": {},
   "outputs": [
    {
     "name": "stdout",
     "output_type": "stream",
     "text": [
      "149597870\n"
     ]
    }
   ],
   "source": [
    "#Definimos distancias\n",
    "#Tierra (149,597,870 km) y Júpiter (778,547,200 km)\n",
    "\n",
    "distancia_tierra = int('149597870')\n",
    "distancia_jupiter = int('778547200')\n",
    "\n",
    "print(distancia_tierra)"
   ]
  },
  {
   "cell_type": "code",
   "execution_count": 16,
   "metadata": {},
   "outputs": [
    {
     "name": "stdout",
     "output_type": "stream",
     "text": [
      "628949330\n",
      "390577534\n"
     ]
    }
   ],
   "source": [
    "#Ooperación\n",
    "resultado = distancia_jupiter - distancia_tierra\n",
    "resultado_m = distancia_jupiter - distancia_tierra \n",
    "\n",
    "print(abs(resultado))\n",
    "print(round(abs(resultado_m) * float('0.621')))"
   ]
  },
  {
   "cell_type": "markdown",
   "metadata": {},
   "source": [
    "## Kata Módulo 5\n",
    "Ejercicio 2"
   ]
  },
  {
   "cell_type": "code",
   "execution_count": 10,
   "metadata": {},
   "outputs": [
    {
     "name": "stdout",
     "output_type": "stream",
     "text": [
      "1205600000\n",
      "662303500\n"
     ]
    }
   ],
   "source": [
    "#Almacenar entrada de usario\n",
    "#Saturno = 1433500000\n",
    "#Marte = 227900000\n",
    "\n",
    "planeta1 = input(\"Distancia 1\")\n",
    "planeta2 = input(\"Distancia 2\")\n",
    "\n",
    "print(abs(int(planeta2) - int(planeta1)))\n",
    "print(round(abs(int(planeta2) - int(planeta1) * float('0.621'))))"
   ]
  }
 ],
 "metadata": {
  "interpreter": {
   "hash": "13ee0aeec6359bf7d4a27878dc33bfdd833e706fe15db25b5833abf56597652f"
  },
  "kernelspec": {
   "display_name": "Python 3.10.1 64-bit",
   "language": "python",
   "name": "python3"
  },
  "language_info": {
   "codemirror_mode": {
    "name": "ipython",
    "version": 3
   },
   "file_extension": ".py",
   "mimetype": "text/x-python",
   "name": "python",
   "nbconvert_exporter": "python",
   "pygments_lexer": "ipython3",
   "version": "3.10.1"
  },
  "orig_nbformat": 4
 },
 "nbformat": 4,
 "nbformat_minor": 2
}
